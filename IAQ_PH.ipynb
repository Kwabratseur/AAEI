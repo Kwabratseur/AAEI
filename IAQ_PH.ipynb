{
 "cells": [
  {
   "cell_type": "markdown",
   "id": "693b1fc6",
   "metadata": {
    "slideshow": {
     "slide_type": "slide"
    }
   },
   "source": [
    "<img src='gfx/sax_logo.png' width=\"200\" height=\"200\">\n",
    "\n",
    "# effects of indoor air quality on (students) well-being\n",
    " \n",
    "## Indoor air quality and impact on public health"
   ]
  },
  {
   "cell_type": "markdown",
   "id": "7147cc6e",
   "metadata": {
    "slideshow": {
     "slide_type": "fragment"
    }
   },
   "source": [
    "<img src='gfx/case_1.png' width=\"700\" height=\"400\">"
   ]
  },
  {
   "cell_type": "markdown",
   "id": "56eac5ff",
   "metadata": {
    "slideshow": {
     "slide_type": "slide"
    }
   },
   "source": [
    "# Content\n",
    "\n",
    "1. [Introduction](#Introduction)\n",
    "   * [Volatile Organic Compounds](#Volatile-Organic-Compounds)\n",
    "   * [Atmospheric modelling as a base for indoor air quality](#Atmospheric-modelling-as-a-base-for-indoor-air-quality)\n",
    "   ---\n",
    "2. [state of the art](#state-of-the-art)\n",
    "   * [Some related work - openFOAM related](#Some-related-work---openFOAM-related)\n",
    "   * [Simulation of alpha-pinene and delta-limonene reaction with Ozone](#Simulation-of-alpha-pinene-and-delta-limonene-reaction-with-Ozone)\n",
    "   ---\n",
    "3. [Some Example projects](#Some-Example-projects)  \n",
    "   * [Interactive experiment - human exposure and survey](#Interactive-experiment---human-exposure-and-survey)  \n",
    "   * [Can a box model with or without the addition of chemistry be used to describe the room state](#Can-a-box-model-with-or-without-the-addition-of-chemistry-be-used-to-describe-the-room-state)  \n",
    "   * [Deodorant / aftershave / perfume measurements](#Deodorant-/-aftershave-/-perfume-measurements)  \n",
    "   * [How do different ventilation rates impact the end user](#How-do-different-ventilation-rates-impact-the-end-user)  \n",
    "   * [How do normal house cleaning activities lead to secondary pollutants](#How-do-normal-house-cleaning-activities-lead-to-secondary-pollutants)  \n",
    "   ---\n",
    "4. [Usefull links](#Usefull-links)\n"
   ]
  },
  {
   "cell_type": "markdown",
   "id": "c4df3224",
   "metadata": {
    "slideshow": {
     "slide_type": "slide"
    }
   },
   "source": [
    "[Content](#Content)\n",
    "<img src='gfx/sax_logo.png' width=\"200\" height=\"200\">\n",
    "\n",
    "# Introduction"
   ]
  },
  {
   "cell_type": "markdown",
   "id": "94d39797",
   "metadata": {
    "slideshow": {
     "slide_type": "subslide"
    }
   },
   "source": [
    "[Content](#Content)\n",
    "## Volatile Organic Compounds\n",
    "**European Union**\n",
    "\n",
    "A VOC is any organic compound having an initial boiling point less than or equal to 250 °C measured at a standard atmospheric pressure of 101.3 kPa and can do damage to visual or audible senses."
   ]
  },
  {
   "cell_type": "markdown",
   "id": "f9352f3a",
   "metadata": {
    "slideshow": {
     "slide_type": "fragment"
    }
   },
   "source": [
    "* different regions in the world have different definitions for VOC's\n",
    "* It is a vast group of chemicals that can have a negative effect on health or wellbeing\n",
    "* New comprehensive study \n",
    "<img src='gfx/Overview_study_VOCs.jpg' width=\"800\" height=\"400\">\n",
    "\n",
    "[Link](https://www.sciencedirect.com/science/article/pii/S0048969721034197#!)"
   ]
  },
  {
   "cell_type": "markdown",
   "id": "ffcbe3e2",
   "metadata": {
    "slideshow": {
     "slide_type": "subslide"
    }
   },
   "source": [
    "* Ozone (O3)\n",
    " * A key oxidizer in the indoor environment. Reaction products are often more toxic then the source chemicals\n",
    "* Hydroxy radical (OH)\n",
    " * This is a key oxidizer in the upper troposphere. The concentrations are much lower close to the ground, but it might still be of interest\n",
    "* formaldehyde (HCHO)\n",
    " * A compound known to be toxic, and present in many building materials (wood), furniture, etc.. Also present in indoor environment\n",
    "* aldehydes (-CHO)\n",
    " * A group of compounds which are in general considered as Reactive Oxygen Species (ROS). In other words, strong oxidizers which are toxic itself but can also lead to more toxic secondary pollutants.\n",
    "* Aromatics (at least one full circle of carbon atoms)\n",
    " * for example Toluene, benzene, styrene\n",
    "* Cleanants\n",
    " * For example alpha-pinene and delta-limonene are not that toxic, but secondary pollutants that form by reacting with Ozone are toxic\n",
    "* CO2\n",
    " * Well known that this gas has adverse health and productivity effects. "
   ]
  },
  {
   "cell_type": "markdown",
   "id": "0af48197",
   "metadata": {
    "slideshow": {
     "slide_type": "subslide"
    }
   },
   "source": [
    "[Content](#Content)\n",
    "## Atmospheric modelling as a base for indoor air quality\n",
    "<img src='gfx/atmospheric_models.png' width=\"800\" height=\"400\">\n",
    "\n",
    "* Still relatively expensive to run such models\n",
    "    * Primarily HPC\n",
    "* For each cell, a mechanism like the MCM is solved, on top of NS\n"
   ]
  },
  {
   "cell_type": "markdown",
   "id": "89f63b28",
   "metadata": {
    "slideshow": {
     "slide_type": "slide"
    }
   },
   "source": [
    "[Content](#Content)\n",
    "<img src='gfx/sax_logo.png' width=\"200\" height=\"200\">\n",
    "\n",
    "# state of the art\n",
    "[Indoor air pollution network](https://indairpollnet.eu/publications/)"
   ]
  },
  {
   "cell_type": "markdown",
   "id": "637eff6d",
   "metadata": {
    "slideshow": {
     "slide_type": "fragment"
    }
   },
   "source": [
    "<img src='gfx/pbl_diurnal_cycle.png' width=\"700\" height=\"200\">\n",
    "\n",
    "* Boxmox simulation of diurnal cycle"
   ]
  },
  {
   "cell_type": "markdown",
   "id": "0e07dbb2",
   "metadata": {
    "slideshow": {
     "slide_type": "subslide"
    }
   },
   "source": [
    "\n",
    "* Boxmox allows for easy simulation of box models, not that easy to set up (broken links) but easy once running. I do have the files, so I can distribute them if needed.\n",
    " * [Boxmox](https://www2.acom.ucar.edu/modeling/boxmox-box-model-extensions-kpp)\n",
    "\n",
    "* AtChem2 is a modelling tool for atmospheric chemistry, primarily designed to work with MCM\n",
    " * [AtChem2](https://github.com/AtChem/AtChem2)\n",
    "\n",
    "* the MCM (model) describes near-explicit degradation of primarily VOC's in the troposphere\n",
    " * [\"Master Chemical Mechanism\" (MCM)](http://mcm.york.ac.uk/atchem/tutorial_intro.htt)\n",
    "\n",
    "* Pubchem contains many publications and data about any compound. Toxilogical data can also be found here.\n",
    " * [Health Effects of compounds - pubchem](https://pubchem.ncbi.nlm.nih.gov/)\n",
    "\n",
    "* eurochamp's kinetic rate constant database can be used to find rate constants for reactions of interests\n",
    " * [Rate constants of gas-phase atmospheric reactions](https://data.eurochamp.org/data-access/kin/#/data)\n",
    "\n",
    "* open Field Operation And Manipulation - versatile and open CFD software. Difficult to learn, but very powerful. It is configured by text-files\n",
    " * [OpenFOAM - CFD software](https://openfoam.org/)\n",
    " \n",
    " And of course more"
   ]
  },
  {
   "cell_type": "markdown",
   "id": "4675ba97",
   "metadata": {
    "slideshow": {
     "slide_type": "slide"
    }
   },
   "source": [
    "[Content](#Content)\n",
    "<img src='gfx/sax_logo.png' width=\"200\" height=\"200\">\n",
    "\n",
    "## Some related work  - openFOAM related"
   ]
  },
  {
   "cell_type": "markdown",
   "id": "27ea3c98",
   "metadata": {
    "slideshow": {
     "slide_type": "fragment"
    }
   },
   "source": [
    "| Water in box under gravity | Dog sitting in 36 km/h wind |\n",
    "| :------------- | :----------: |\n",
    "| <video controls src=\"gfx/water_in_box.mp4\"  width=\"400\" height=\"600\"/>      |  <img src='gfx/dogflow.jpg' width=\"400\" height=\"600\"> |\n",
    "\n"
   ]
  },
  {
   "cell_type": "markdown",
   "id": "4cf3164b",
   "metadata": {
    "slideshow": {
     "slide_type": "subslide"
    }
   },
   "source": [
    "[Content](#Content)\n",
    "## Simulation of alpha-pinene and delta-limonene reaction with Ozone\n",
    "(commonly found in household cleanants)\n",
    "<img src='gfx/Openfoam_files.png' width=\"150\" height=\"200\" align=\"right\">\n",
    "\n",
    "| 0000 & 6000 s | 2000 & 8000 s  | 4000 & 10000 s | \n",
    "| :------------- | :----------: | :----------: |\n",
    "|<img src='OpenFOAM/jeroen-9/run/Thesis/Kazuhide_cases/Animation/contour_species.0001.png' width=\"500\" height=\"600\">   |  <img src='OpenFOAM/jeroen-9/run/Thesis/Kazuhide_cases/Animation/contour_species.0400.png' width=\"500\" height=\"600\"> | <img src='OpenFOAM/jeroen-9/run/Thesis/Kazuhide_cases/Animation/contour_species.0200.png' width=\"500\" height=\"600\"> |\n",
    "|<img src='OpenFOAM/jeroen-9/run/Thesis/Kazuhide_cases/Animation/contour_species.0600.png' width=\"500\" height=\"600\">   |  <img src='OpenFOAM/jeroen-9/run/Thesis/Kazuhide_cases/Animation/contour_species.0800.png' width=\"500\" height=\"600\"> | <img src='OpenFOAM/jeroen-9/run/Thesis/Kazuhide_cases/Animation/contour_species.1000.png' width=\"500\" height=\"600\"> |"
   ]
  },
  {
   "cell_type": "markdown",
   "id": "80d8e2ab",
   "metadata": {
    "slideshow": {
     "slide_type": "slide"
    }
   },
   "source": [
    "[Content](#Content)\n",
    "<img src='gfx/sax_logo.png' width=\"200\" height=\"200\">\n",
    "\n",
    "# Some Example projects\n",
    "\n",
    "<img src='gfx/STL_entrance.jpg' width=\"600\" height=\"600\">"
   ]
  },
  {
   "cell_type": "markdown",
   "id": "8abe9734",
   "metadata": {
    "slideshow": {
     "slide_type": "subslide"
    }
   },
   "source": [
    "* Smart Tinylab\n",
    " * 2 *almost* identical test rooms\n",
    "     * One room has a wall-segment with fiberglass insulation and heated glass\n",
    "     * The other room has a wall segment with cellulose insulation \n",
    " * Double doors to ensure air-tightness\n",
    " * Seperate temperature control for rooms\n",
    " * Large amount of sensors (temperature, humidity, VOC, TVOC, CO2, Wood moisture content, heat-flux)\n",
    " * Floor heating\n",
    " * HVAC\n",
    "     * with possibility to increase humidity actively, decrease has to be done passively"
   ]
  },
  {
   "cell_type": "markdown",
   "id": "bbd11494",
   "metadata": {
    "slideshow": {
     "slide_type": "fragment"
    }
   },
   "source": [
    "<img src='gfx/STL_indoor_testroom.jpg' width=\"600\" height=\"600\">\n"
   ]
  },
  {
   "cell_type": "markdown",
   "id": "af9f0bdc",
   "metadata": {
    "slideshow": {
     "slide_type": "subslide"
    }
   },
   "source": [
    "[Content](#Content)\n",
    "<img src='gfx/sax_logo.png' width=\"200\" height=\"200\">\n",
    "\n",
    "# Interactive experiment - human exposure and survey\n",
    "Utilize the smart tiny lab test rooms as offices and use a test group to quantify effects on health and productivity\n",
    "* CO2 levels can be controlled up to some extent\n",
    "* VOC's can be measured and controlled up to some extent (both by adjusting ventilation rates/windows)\n",
    "* Look into methods of testing productivity. Surveys, tests, etc.\n",
    "* Are other VOC's/chemicals of particular interest? "
   ]
  },
  {
   "cell_type": "markdown",
   "id": "f46e9dc6",
   "metadata": {
    "slideshow": {
     "slide_type": "subslide"
    }
   },
   "source": [
    "[Content](#Content)\n",
    "<img src='gfx/sax_logo.png' width=\"200\" height=\"200\">\n",
    "\n",
    "# Can a box model with or without the addition of chemistry be used to describe the room state\n",
    "\n",
    "The sensors and HVAC control system can be used as a calibration tool for different kind of simulations, next to that we have other data on air-tightness that can also be used.\n",
    "* With a chemical box model, it should be possible to simulate deposition of for example formaldehyde from the new building materials, is it possible to predict the VOC levels? ([list of VOC's](http://aqt-vru.com/emissions/complete-list-of-vocs/))\n",
    "* The same goes for CO2 levels. If 2 people work in the space, the levels should stabilize at a certain concentration (under floating control), can this be predicted with a simulation?\n",
    "* there are more interesting parameters to look at in this line\n"
   ]
  },
  {
   "cell_type": "markdown",
   "id": "fba3f6e4",
   "metadata": {
    "slideshow": {
     "slide_type": "subslide"
    }
   },
   "source": [
    "[Content](#Content)\n",
    "<img src='gfx/sax_logo.png' width=\"200\" height=\"200\">\n",
    "\n",
    "# Deodorant / aftershave / perfume measurements\n",
    "\n",
    "* Can the health-impact be quantified?\n",
    "* How can secondary pollutants be measured?\n",
    "* What groups do these fall under?\n",
    "* do we have to worry about the primary species or secondary species after reaction?\n",
    "* Which reactions are of particular interest for the health impact of these species?\n",
    "* Can we measure them with VOC sensors?"
   ]
  },
  {
   "cell_type": "markdown",
   "id": "800ae962",
   "metadata": {
    "slideshow": {
     "slide_type": "subslide"
    }
   },
   "source": [
    "[Content](#Content)\n",
    "<img src='gfx/sax_logo.png' width=\"200\" height=\"200\">\n",
    "\n",
    "# How do different ventilation rates impact the end user\n",
    "\n",
    "* Is more ventilation always better?\n",
    "* How do the health effects compare between low and high ventilation?\n",
    "* Can the health effects be described in a simple mathematical expression? \n",
    "* The Smart Tinylab's HVAC control system can be used  for measurements if necessary"
   ]
  },
  {
   "cell_type": "markdown",
   "id": "18155adb",
   "metadata": {
    "slideshow": {
     "slide_type": "subslide"
    }
   },
   "source": [
    "[Content](#Content)\n",
    "<img src='gfx/sax_logo.png' width=\"200\" height=\"200\">\n",
    "\n",
    "# How do normal house cleaning activities lead to secondary pollutants\n",
    "\n",
    "* can you quantify the associated health impact? how does this affect a person on a lifetime? (estimate)\n",
    "* think of a measurement system/methodology and test this\n",
    "* Do you need specific sensors to measure this? "
   ]
  },
  {
   "cell_type": "markdown",
   "id": "24824de6",
   "metadata": {
    "slideshow": {
     "slide_type": "slide"
    }
   },
   "source": [
    "[Content](#Content)\n",
    "<img src='gfx/sax_logo.png' width=\"200\" height=\"200\">\n",
    "\n",
    "# Usefull links\n",
    "[Openfoam 3-week introduction](https://wiki.openfoam.com/%223_weeks%22_series)  \n",
    "[CFD and Model Experiment with Chemical Reaction](https://www.researchgate.net/publication/239929579_CFD_and_Model_Experiment_with_Chemical_Reaction)  \n",
    "[Boxmox](https://www2.acom.ucar.edu/modeling/boxmox-box-model-extensions-kpp)  \n",
    "[AtChem2](https://github.com/AtChem/AtChem2)  \n",
    "[\"Master Chemical Mechanism\" (MCM)](http://mcm.york.ac.uk/atchem/tutorial_intro.htt)  \n",
    "[Health Effects of compounds - pubchem](https://pubchem.ncbi.nlm.nih.gov/)  \n",
    "[Rate constants of gas-phase atmospheric reactions](https://data.eurochamp.org/data-access/kin/#/data)  \n",
    "[OpenFOAM - CFD software](https://openfoam.org/)"
   ]
  },
  {
   "cell_type": "code",
   "execution_count": null,
   "id": "4c3d194f",
   "metadata": {},
   "outputs": [],
   "source": []
  }
 ],
 "metadata": {
  "celltoolbar": "Slideshow",
  "kernelspec": {
   "display_name": "Python 3 (ipykernel)",
   "language": "python",
   "name": "python3"
  },
  "language_info": {
   "codemirror_mode": {
    "name": "ipython",
    "version": 3
   },
   "file_extension": ".py",
   "mimetype": "text/x-python",
   "name": "python",
   "nbconvert_exporter": "python",
   "pygments_lexer": "ipython3",
   "version": "3.10.1"
  },
  "rise": {
   "footer": "<h3>World!</h3>",
   "header": "<h1>Hello</h1>",
   "theme": "sky",
   "transition": "zoom"
  }
 },
 "nbformat": 4,
 "nbformat_minor": 5
}
